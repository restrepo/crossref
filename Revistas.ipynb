{
 "cells": [
  {
   "cell_type": "markdown",
   "metadata": {
    "colab_type": "text",
    "id": "view-in-github"
   },
   "source": [
    "<a href=\"https://colab.research.google.com/github/restrepo/crossref/blob/master/Revistas.ipynb\" target=\"_parent\"><img src=\"https://colab.research.google.com/assets/colab-badge.svg\" alt=\"Open In Colab\"/></a>"
   ]
  },
  {
   "cell_type": "markdown",
   "metadata": {
    "colab_type": "text",
    "id": "-Lp8A1wRLbMH"
   },
   "source": [
    "# Crossref API"
   ]
  },
  {
   "cell_type": "code",
   "execution_count": 1,
   "metadata": {
    "colab": {},
    "colab_type": "code",
    "id": "kdP3nR3LLbMK"
   },
   "outputs": [],
   "source": [
    "import pandas as pd\n",
    "import getpass\n",
    "import time"
   ]
  },
  {
   "cell_type": "markdown",
   "metadata": {
    "colab_type": "text",
    "id": "9HCwTxD8LbMP"
   },
   "source": [
    "Resources\n",
    "* API TUTORIAL: https://github.com/CrossRef/rest-api-doc\n",
    "* JSON Format: https://github.com/Crossref/rest-api-doc/blob/master/api_format.md"
   ]
  },
  {
   "cell_type": "markdown",
   "metadata": {
    "colab_type": "text",
    "id": "MH7x42nRLbMQ"
   },
   "source": [
    "## Search by ISSN"
   ]
  },
  {
   "cell_type": "code",
   "execution_count": 2,
   "metadata": {
    "colab": {
     "base_uri": "https://localhost:8080/",
     "height": 34
    },
    "colab_type": "code",
    "id": "_xwEhKBbLpSN",
    "outputId": "2f53bb3a-0b4f-4d04-eed9-97d8bd74cee2"
   },
   "outputs": [
    {
     "name": "stdout",
     "output_type": "stream",
     "text": [
      "Email:········\n"
     ]
    }
   ],
   "source": [
    "email=getpass.getpass('Email:')"
   ]
  },
  {
   "cell_type": "code",
   "execution_count": 4,
   "metadata": {},
   "outputs": [],
   "source": [
    "dfj=pd.read_csv('https://docs.google.com/spreadsheets/d/e/2PACX-1vQ2-K4JSl93PMkHaN5MZjlXy5beaZVy3jlOg7YD6tbrFq0pItttWKfKSiAQy7tcRw/pub?gid=508185721&single=true&output=csv')"
   ]
  },
  {
   "cell_type": "code",
   "execution_count": 5,
   "metadata": {},
   "outputs": [],
   "source": [
    "dfj=dfj.dropna(subset=['Título de la revista']).reset_index(drop=True)"
   ]
  },
  {
   "cell_type": "code",
   "execution_count": 6,
   "metadata": {},
   "outputs": [],
   "source": [
    "dfj=dfj.fillna('')"
   ]
  },
  {
   "cell_type": "code",
   "execution_count": 7,
   "metadata": {},
   "outputs": [],
   "source": [
    "djournals=list(\n",
    "   dfj.apply(lambda row:{'journal':row['Título de la revista']\n",
    "                      ,'ISSN':{ 'print'     :row['ISSN Impreso']\n",
    "                               ,'electronic':row['ISSN']\n",
    "                              }\n",
    "                     },axis=1).values\n",
    ")"
   ]
  },
  {
   "cell_type": "markdown",
   "metadata": {},
   "source": [
    "Get list of Journals ans ISSNs"
   ]
  },
  {
   "cell_type": "code",
   "execution_count": 8,
   "metadata": {},
   "outputs": [],
   "source": [
    "journals=[ d.get('journal') for d in djournals if d.get('journal')]\n",
    "\n",
    "issns=[\n",
    "        d.get('ISSN').get('print') for d in djournals if d.get('ISSN').get('print')\n",
    "    ]\n",
    "issns_e=[\n",
    "        d.get('ISSN').get('electronic') for d in djournals if d.get('ISSN').get('print')\n",
    "    ]"
   ]
  },
  {
   "cell_type": "markdown",
   "metadata": {},
   "source": [
    "Loop in ISSNs: both print and electronic"
   ]
  },
  {
   "cell_type": "code",
   "execution_count": 12,
   "metadata": {
    "colab": {},
    "colab_type": "code",
    "id": "gqF_GkWGLbMR"
   },
   "outputs": [
    {
     "name": "stdout",
     "output_type": "stream",
     "text": [
      "Enough rows: all the 560 items have been downloaded\n",
      "Enough rows: all the 149 items have been downloaded\n",
      "Enough rows: all the 191 items have been downloaded\n",
      "Enough rows: all the 133 items have been downloaded\n",
      "Enough rows: all the 451 items have been downloaded\n",
      "Enough rows: all the 134 items have been downloaded\n",
      "Enough rows: all the 327 items have been downloaded\n",
      "Enough rows: all the 164 items have been downloaded\n",
      "Enough rows: all the 145 items have been downloaded\n",
      "Enough rows: all the 145 items have been downloaded\n",
      "Enough rows: all the 307 items have been downloaded\n",
      "Enough rows: all the 140 items have been downloaded\n",
      "Enough rows: all the 94 items have been downloaded\n",
      "Enough rows: all the 80 items have been downloaded\n",
      "Enough rows: all the 104 items have been downloaded\n",
      "Enough rows: all the 135 items have been downloaded\n",
      "Enough rows: all the 176 items have been downloaded\n",
      "Enough rows: all the 732 items have been downloaded\n",
      "Enough rows: all the 22 items have been downloaded\n",
      "Enough rows: all the 92 items have been downloaded\n"
     ]
    }
   ],
   "source": [
    "dft=pd.DataFrame()\n",
    "ISSN=True\n",
    "sleep=5\n",
    "for i in range(len(issns)):\n",
    "#if True:\n",
    "    url_e=''\n",
    "    journal=journals[i]\n",
    "    issn=issns[i]\n",
    "    issn_e=issns_e[i]\n",
    "    items=1000\n",
    "    crf='https://api.crossref.org'\n",
    "    if ISSN:\n",
    "        url='{}/journals/{}/works?rows={}&mailto={}'.format(\n",
    "              crf,issn,items,email)\n",
    "        if issn_e:\n",
    "            url_e='{}/journals/{}/works?rows={}&mailto={}'.format(\n",
    "                 crf,issn_e,items,email)\n",
    "    else:\n",
    "        url='{}/works?query.container-title={}&rows={}&mailto={}'.format(\n",
    "          crf,journal,items,email)\n",
    "    try:\n",
    "        df=pd.read_json(url)\n",
    "    except:\n",
    "        df=pd.DataFrame()\n",
    "\n",
    "    df_e=pd.DataFrame()\n",
    "    if url_e:\n",
    "        time.sleep(sleep)\n",
    "        try:\n",
    "            df_e=pd.read_json(url)\n",
    "        except:\n",
    "            pass\n",
    "        \n",
    "    if not df.empty:\n",
    "        dfi=pd.DataFrame( df.loc['items']['message'] )\n",
    "        dft=(dft.append(dfi,sort=False)).reset_index(drop=True)\n",
    "        total_results=df.loc['total-results']['message']\n",
    "        if items>total_results:\n",
    "            print('Enough rows: all the {} items have been downloaded'.format(total_results))\n",
    "        else:\n",
    "            print('Missing items for issn: {}. Increase `rows` value'.format(issn))\n",
    "            \n",
    "    if not df_e.empty:\n",
    "        dfi_e=pd.DataFrame( df.loc['items']['message'] )\n",
    "        #Check if there are new items:\n",
    "        dfi_e=dfi_e[dfi_e['ISSN'].apply(lambda l: \n",
    "                     issn not in l if isinstance(l,list) else False)\n",
    "                   ].reset_index(drop=True)\n",
    "        if not dfi_e.empty:\n",
    "            dft=(dft.append(dfi_e,sort=False)).reset_index(drop=True)\n",
    "            total_results=df_e.loc['total-results']['message']\n",
    "            if items>total_results:\n",
    "                print('New items in electronic ISSN:')\n",
    "                print('Enough rows: all the {} items have been downloaded'.format(total_results))\n",
    "            else:\n",
    "                print('Missing items for issn: {}. Increase `rows` value'.format(issn_e))\n",
    "    time.sleep(sleep)"
   ]
  },
  {
   "cell_type": "code",
   "execution_count": 13,
   "metadata": {},
   "outputs": [
    {
     "data": {
      "text/plain": [
       "(4281, 43)"
      ]
     },
     "execution_count": 13,
     "metadata": {},
     "output_type": "execute_result"
    }
   ],
   "source": [
    "dft.shape"
   ]
  },
  {
   "cell_type": "code",
   "execution_count": 15,
   "metadata": {},
   "outputs": [],
   "source": [
    "dft.to_json('revistas_crossref.json')"
   ]
  },
  {
   "cell_type": "code",
   "execution_count": 17,
   "metadata": {},
   "outputs": [],
   "source": [
    "dfcr=pd.read_json('revistas_crossref.json')"
   ]
  },
  {
   "cell_type": "code",
   "execution_count": 18,
   "metadata": {},
   "outputs": [
    {
     "data": {
      "text/plain": [
       "(4281, 43)"
      ]
     },
     "execution_count": 18,
     "metadata": {},
     "output_type": "execute_result"
    }
   ],
   "source": [
    "dfcr.shape"
   ]
  },
  {
   "cell_type": "code",
   "execution_count": 22,
   "metadata": {
    "colab": {},
    "colab_type": "code",
    "id": "8eAuTdQhTM16"
   },
   "outputs": [
    {
     "data": {
      "text/plain": [
       "(599, 43)"
      ]
     },
     "execution_count": 22,
     "metadata": {},
     "output_type": "execute_result"
    }
   ],
   "source": [
    "dfcr[dfcr.author.astype(str).str.lower().str.contains('orcid')].shape"
   ]
  },
  {
   "cell_type": "code",
   "execution_count": 28,
   "metadata": {},
   "outputs": [
    {
     "data": {
      "text/plain": [
       "Index(['DOI', 'ISSN', 'URL', 'abstract', 'alternative-id', 'assertion',\n",
       "       'author', 'container-title', 'content-domain', 'created', 'deposited',\n",
       "       'editor', 'funder', 'indexed', 'is-referenced-by-count', 'issn-type',\n",
       "       'issue', 'issued', 'journal-issue', 'language', 'license', 'link',\n",
       "       'member', 'original-title', 'page', 'prefix', 'published-online',\n",
       "       'published-print', 'publisher', 'reference', 'reference-count',\n",
       "       'references-count', 'relation', 'score', 'short-container-title',\n",
       "       'short-title', 'source', 'subject', 'subtitle', 'title', 'type',\n",
       "       'update-policy', 'volume'],\n",
       "      dtype='object')"
      ]
     },
     "execution_count": 28,
     "metadata": {},
     "output_type": "execute_result"
    }
   ],
   "source": [
    "dfcr.keys()"
   ]
  },
  {
   "cell_type": "markdown",
   "metadata": {},
   "source": [
    "## Searching citations for the DOIS\n",
    "See: \n",
    "* http://opencitations.net/index/coci/api/v1\n",
    "* https://opencitations.wordpress.com/2020/01/21/coci-jan-2020-release/  \n",
    "\n",
    "### Operations\n",
    "The operations that this API implements are:\n",
    "\n",
    "* `/references/{doi}`: This operation retrieves the citation data for all the references to other works appearing in the bibliographic entity identified by the input DOI.\n",
    "* `/citations/{doi}`: Search DOIs citing input (cited) DOI: This operation retrieves the citation data for all the references appearing in other works to the bibliographic entity identified by the input DOI.\n",
    "* `/citation/{oci}`: This operation retrieves the citation data for the citation identified by the input Open Citation Identifier (OCI).\n",
    "* `/metadata/{dois}`: This operation retrieves the metadata for all the articles identified by the input DOIs."
   ]
  },
  {
   "cell_type": "code",
   "execution_count": 30,
   "metadata": {},
   "outputs": [],
   "source": [
    "import requests"
   ]
  },
  {
   "cell_type": "markdown",
   "metadata": {},
   "source": [
    "### Example:"
   ]
  },
  {
   "cell_type": "code",
   "execution_count": 97,
   "metadata": {},
   "outputs": [
    {
     "data": {
      "text/plain": [
       "[{'author_sc': 'no',\n",
       "  'cited': '10.25100/cdea.v26i43.425',\n",
       "  'citing': '10.22490/25392786.3177',\n",
       "  'creation': '2019-05-21',\n",
       "  'journal_sc': 'no',\n",
       "  'oci': '02002020409003602050309020708063703010707-020020501000036121314103731020618040337040205',\n",
       "  'timespan': 'P7Y6M19D'}]"
      ]
     },
     "execution_count": 97,
     "metadata": {},
     "output_type": "execute_result"
    }
   ],
   "source": [
    "operations=['citations']#['metadata']\n",
    "for doi in ['10.25100/cdea.v26i43.425']:#['10.1103/PhysRevD.99.075008']:\n",
    "    for operation in operations:\n",
    "        url='https://opencitations.net/index/coci/api/v1/{}/{}'.format(\n",
    "           operation,doi)\n",
    "        r=requests.get(url)\n",
    "#print last result\n",
    "r.json()"
   ]
  },
  {
   "cell_type": "code",
   "execution_count": 95,
   "metadata": {},
   "outputs": [
    {
     "data": {
      "text/plain": [
       "200"
      ]
     },
     "execution_count": 95,
     "metadata": {},
     "output_type": "execute_result"
    }
   ],
   "source": [
    "r.status_code"
   ]
  },
  {
   "cell_type": "markdown",
   "metadata": {},
   "source": [
    "### Implementation for current DOIs"
   ]
  },
  {
   "cell_type": "code",
   "execution_count": null,
   "metadata": {},
   "outputs": [
    {
     "name": "stdout",
     "output_type": "stream",
     "text": [
      "wrong status code, waiting...\n",
      "wrong status code, waiting...\n",
      "wrong status code, waiting...\n",
      "wrong status code, waiting...\n",
      "wrong status code, waiting...\n",
      "wrong status code, waiting...\n",
      "wrong status code, waiting...\n",
      "wrong status code, waiting...\n",
      "wrong status code, waiting...\n",
      "wrong status code, waiting...\n",
      "wrong status code, waiting...\n",
      "wrong status code, waiting...\n"
     ]
    }
   ],
   "source": [
    "citdf=pd.DataFrame()\n",
    "metdf=pd.DataFrame()\n",
    "failed_dois=[]\n",
    "operations=['metadata']#['citations','metadata']\n",
    "for doi in dfcr.DOI:\n",
    "    for operation in operations:\n",
    "        try:\n",
    "            r=requests.get('https://opencitations.net/index/coci/api/v1/{}/{}'.format(\n",
    "                   operation,doi))\n",
    "        except:\n",
    "            r=None\n",
    "        time.sleep(3)\n",
    "        \n",
    "        if getattr(r, \"status_code\", None)==200 and r.json():\n",
    "            if operation=='citations':\n",
    "                print('citations found for doi: {}'.format(doi))\n",
    "                try:\n",
    "                    citdf=citdf.append(pd.DataFrame(r.json()),sort=False).reset_index(drop=True)\n",
    "                    citdf.to_json('tmp1.json')\n",
    "                except:\n",
    "                    pass\n",
    "            elif operation=='metadata':\n",
    "                try:\n",
    "                    metdf=metdf.append(pd.DataFrame(r.json()),sort=False).reset_index(drop=True)\n",
    "                    metdf.to_json('tmp2.json')\n",
    "                except:\n",
    "                    pass\n",
    "        else:\n",
    "            print('wrong status code, waiting...')\n",
    "            failed_dois.append(doi)\n",
    "            time.sleep(3)"
   ]
  },
  {
   "cell_type": "code",
   "execution_count": 100,
   "metadata": {},
   "outputs": [
    {
     "data": {
      "text/plain": [
       "['10.1016/j.estger.2014.05.001',\n",
       " '10.1016/j.estger.2014.06.002',\n",
       " '10.1016/j.estger.2014.08.005',\n",
       " '10.1016/j.estger.2016.02.001',\n",
       " '10.17081/eduhum.21.36.3293',\n",
       " '10.17081/eduhum.21.37.3410',\n",
       " '10.17081/eduhum.21.37.3444',\n",
       " '10.17081/eduhum.21.37.3461',\n",
       " '10.17081/eduhum.21.37.3365',\n",
       " '10.17081/eduhum.21.37.3376',\n",
       " '10.17081/eduhum.21.37.3123',\n",
       " '10.17081/eduhum.18.31',\n",
       " '10.17081/eduhum.18.31.1375',\n",
       " '10.17081/eduhum.18.31.1380',\n",
       " '10.1016/j.estger.2016.03.001',\n",
       " '10.17081/eduhum.18.31.1374',\n",
       " '10.17081/eduhum.18.31.1381',\n",
       " '10.17081/eduhum.18.31.1383',\n",
       " '10.17081/eduhum.18.31.1382',\n",
       " '10.17081/eduhum.18.31.1379',\n",
       " '10.17081/eduhum.18.31.1378',\n",
       " '10.17081/eduhum.18.31.2357',\n",
       " '10.17081/eduhum.18.31.1376',\n",
       " '10.17081/eduhum.18.31.1377',\n",
       " '10.17081/eduhum.22.38.3636',\n",
       " '10.1016/j.estger.2017.03.001',\n",
       " '10.17081/eduhum.22.38.3555',\n",
       " '10.17081/eduhum.22.38.3611',\n",
       " '10.17081/eduhum.22.38.3455',\n",
       " '10.17081/eduhum.22.38.3628',\n",
       " '10.17081/eduhum.22.38.3590',\n",
       " '10.17081/eduhum.21.37.3117',\n",
       " '10.17081/eduhum.21.37.3705',\n",
       " '10.17081/eduhum.22.38',\n",
       " '10.17081/eduhum.21.37',\n",
       " '10.17081/eduhum.22.38.3577',\n",
       " '10.17081/eduhum.21.37.3052',\n",
       " '10.17081/eduhum.21.37.3459',\n",
       " '10.17081/eduhum.21.37.3474',\n",
       " '10.25100/cdea.v24i40.408',\n",
       " '10.25100/cdea.v26i43',\n",
       " '10.25100/cdea.v26i43.420',\n",
       " '10.25100/cdea.v26i43.421',\n",
       " '10.25100/cdea.v26i43.424',\n",
       " '10.25100/cdea.v26i43.422',\n",
       " '10.25100/cdea.v26i43.426',\n",
       " '10.25100/cdea.v26i43.427',\n",
       " '10.25100/cdea.v26i43.429',\n",
       " '10.25100/cdea.v26i44',\n",
       " '10.25100/cdea.v26i43.430',\n",
       " '10.25100/cdea.v26i44.431',\n",
       " '10.25100/cdea.v26i44.432',\n",
       " '10.1016/j.estger.2017.02.005',\n",
       " '10.25100/cdea.v26i44.433',\n",
       " '10.25100/cdea.v26i44.437',\n",
       " '10.25100/cdea.v25i42',\n",
       " '10.25100/cdea.v26i44.436',\n",
       " '10.25100/cdea.v26i44.436',\n",
       " '10.25100/cdea.v26i44.438',\n",
       " '10.25100/cdea.v26i44.439',\n",
       " '10.25100/cdea.v26i44.439',\n",
       " '10.25100/cdea.v25i42.411',\n",
       " '10.25100/cdea.v25i42.412',\n",
       " '10.25100/cdea.v25i42.412',\n",
       " '10.25100/cdea.v25i42.414',\n",
       " '10.25100/cdea.v25i42.410',\n",
       " '10.1016/j.estger.2017.05.002',\n",
       " '10.25100/cdea.v25i42.415',\n",
       " '10.25100/cdea.v25i42.413',\n",
       " '10.25100/cdea.v25i42.416',\n",
       " '10.25100/cdea.v25i42.418',\n",
       " '10.25100/cdea.v25i42.417',\n",
       " '10.25100/cdea.v25i42.419',\n",
       " '10.25100/cdea.v25i41',\n",
       " '10.25100/cdea.v25i41.389',\n",
       " '10.25100/cdea.v25i41.391',\n",
       " '10.25100/cdea.v25i41.388',\n",
       " '10.1016/j.estger.2017.05.001',\n",
       " '10.25100/cdea.v25i41.390',\n",
       " '10.25100/cdea.v25i41.392',\n",
       " '10.25100/cdea.v25i41.393',\n",
       " '10.25100/cdea.v25i41.394',\n",
       " '10.25100/cdea.v25i41.395',\n",
       " '10.25100/cdea.v25i41.397',\n",
       " '10.25100/cdea.v25i41.396',\n",
       " '10.25100/cdea.v24i40',\n",
       " '10.25100/cdea.v25i41.398',\n",
       " '10.25100/cdea.v24i40.399',\n",
       " '10.1016/j.estger.2017.04.003',\n",
       " '10.25100/cdea.v24i40.400',\n",
       " '10.25100/cdea.v24i40.401',\n",
       " '10.25100/cdea.v24i40.402',\n",
       " '10.25100/cdea.v24i40.403',\n",
       " '10.25100/cdea.v24i40.407',\n",
       " '10.25100/cdea.v24i40.404',\n",
       " '10.25100/cdea.v24i40.405',\n",
       " '10.25100/cdea.v24i40.409',\n",
       " '10.25100/cdea.v23i38.365',\n",
       " '10.25100/cdea.v23i38.368',\n",
       " '10.1016/j.estger.2017.04.002',\n",
       " '10.1016/j.estger.2017.04.002',\n",
       " '10.25100/cdea.v23i38.367',\n",
       " '10.25100/cdea.v23i38.367',\n",
       " '10.25100/cdea.v23i38.366',\n",
       " '10.25100/cdea.v23i38.366',\n",
       " '10.25100/cdea.v23i38.370',\n",
       " '10.25100/cdea.v23i38.370',\n",
       " '10.25100/cdea.v23i38.369',\n",
       " '10.25100/cdea.v23i38.371',\n",
       " '10.25100/cdea.v23i38.374',\n",
       " '10.25100/cdea.v24i39',\n",
       " '10.25100/cdea.v24i39.376',\n",
       " '10.25100/cdea.v23i38.373',\n",
       " '10.25100/cdea.v23i38.372',\n",
       " '10.1016/j.estger.2017.04.004',\n",
       " '10.25100/cdea.v23i38.375',\n",
       " '10.25100/cdea.v24i39.378',\n",
       " '10.25100/cdea.v24i39.377',\n",
       " '10.25100/cdea.v24i39.379',\n",
       " '10.25100/cdea.v24i39.381',\n",
       " '10.25100/cdea.v24i39.383',\n",
       " '10.25100/cdea.v24i39.387',\n",
       " '10.25100/cdea.v24i39.380',\n",
       " '10.25100/cdea.v24i39.382',\n",
       " '10.1016/j.estger.2016.02.002',\n",
       " '10.25100/cdea.v24i39.384',\n",
       " '10.25100/cdea.v1i1',\n",
       " '10.25100/cdea.v1i1.340',\n",
       " '10.25100/cdea.v1i1.341',\n",
       " '10.25100/cdea.v1i1.342',\n",
       " '10.25100/cdea.v1i1.344',\n",
       " '10.25100/cdea.v1i1.343',\n",
       " '10.25100/cdea.v1i1.345',\n",
       " '10.25100/cdea.v1i2',\n",
       " '10.25100/cdea.v1i2.346',\n",
       " '10.25100/cdea.v2i3',\n",
       " '10.25100/cdea.v1i2.348',\n",
       " '10.25100/cdea.v1i2.347',\n",
       " '10.25100/cdea.v1i2.349',\n",
       " '10.25100/cdea.v1i2.350',\n",
       " '10.25100/cdea.v2i3.351',\n",
       " '10.25100/cdea.v2i3.352',\n",
       " '10.25100/cdea.v2i3.353',\n",
       " '10.25100/cdea.v3i4',\n",
       " '10.1016/j.estger.2017.03.003',\n",
       " '10.25100/cdea.v2i3.354',\n",
       " '10.25100/cdea.v3i4.356',\n",
       " '10.25100/cdea.v3i4.357',\n",
       " '10.25100/cdea.v2i3.355',\n",
       " '10.25100/cdea.v4i5',\n",
       " '10.25100/cdea.v4i5.361',\n",
       " '10.25100/cdea.v3i4.359',\n",
       " '10.25100/cdea.v3i4.360',\n",
       " '10.25100/cdea.v3i4.358',\n",
       " '10.25100/cdea.v4i5.362',\n",
       " '10.1016/j.estger.2017.06.002',\n",
       " '10.25100/cdea.v4i5.363',\n",
       " '10.25100/cdea.v4i5.364',\n",
       " '10.25100/cdea.v6i8',\n",
       " '10.25100/cdea.v6i8.321',\n",
       " '10.25100/cdea.v6i8.320',\n",
       " '10.25100/cdea.v6i8.322',\n",
       " '10.25100/cdea.v6i8.323',\n",
       " '10.25100/cdea.v6i8.325',\n",
       " '10.25100/cdea.v6i8.324',\n",
       " '10.25100/cdea.v6i7',\n",
       " '10.1016/j.estger.2017.06.001',\n",
       " '10.25100/cdea.v6i8.326',\n",
       " '10.25100/cdea.v6i7.327',\n",
       " '10.25100/cdea.v6i7.328',\n",
       " '10.25100/cdea.v6i7.330',\n",
       " '10.25100/cdea.v6i7.331',\n",
       " '10.25100/cdea.v6i7.333',\n",
       " '10.25100/cdea.v5i6',\n",
       " '10.25100/cdea.v6i7.332',\n",
       " '10.25100/cdea.v5i6.334',\n",
       " '10.25100/cdea.v5i6.337',\n",
       " '10.25100/cdea.v5i6.336',\n",
       " '10.25100/cdea.v5i6.335',\n",
       " '10.25100/cdea.v5i6.338',\n",
       " '10.25100/cdea.v5i6.339',\n",
       " '10.25100/cdea.v8i12',\n",
       " '10.25100/cdea.v8i12.303',\n",
       " '10.25100/cdea.v8i12.305',\n",
       " '10.25100/cdea.v8i12.306',\n",
       " '10.25100/cdea.v8i12.304',\n",
       " '10.25100/cdea.v8i11',\n",
       " '10.25100/cdea.v8i11.308',\n",
       " '10.25100/cdea.v8i11.310',\n",
       " '10.25100/cdea.v8i11.307',\n",
       " '10.25100/cdea.v8i11.309',\n",
       " '10.25100/cdea.v23i38',\n",
       " '10.25100/cdea.v7i9',\n",
       " '10.25100/cdea.v7i9.315',\n",
       " '10.25100/cdea.v7i10.313',\n",
       " '10.25100/cdea.v7i9.317',\n",
       " '10.25100/cdea.v7i9.316',\n",
       " '10.25100/cdea.v7i10.314',\n",
       " '10.25100/cdea.v7i9.319',\n",
       " '10.25100/cdea.v7i9.318',\n",
       " '10.25100/cdea.v11i15',\n",
       " '10.25100/cdea.v11i15.285',\n",
       " '10.25100/cdea.v11i15.290',\n",
       " '10.25100/cdea.v11i15.288',\n",
       " '10.25100/cdea.v10i14.292',\n",
       " '10.25100/cdea.v10i14.295',\n",
       " '10.25100/cdea.v9i13.299',\n",
       " '10.25100/cdea.v10i14.298',\n",
       " '10.25100/cdea.v9i13.301',\n",
       " '10.25100/cdea.v7i10',\n",
       " '10.25100/cdea.v7i10.311',\n",
       " '10.25100/cdea.v7i10.312',\n",
       " '10.25100/cdea.v11i15.284',\n",
       " '10.25100/cdea.v11i15.286',\n",
       " '10.25100/cdea.v11i15.289',\n",
       " '10.25100/cdea.v11i15.287',\n",
       " '10.1016/j.estger.2014.08.002',\n",
       " '10.25100/cdea.v10i14',\n",
       " '10.25100/cdea.v10i14.293',\n",
       " '10.25100/cdea.v10i14.294',\n",
       " '10.25100/cdea.v11i15.291',\n",
       " '10.25100/cdea.v10i14.296',\n",
       " '10.25100/cdea.v10i14.297',\n",
       " '10.25100/cdea.v9i13',\n",
       " '10.25100/cdea.v9i13.302',\n",
       " '10.25100/cdea.v9i13.300',\n",
       " '10.25100/cdea.v32i56.4283',\n",
       " '10.1016/j.estger.2016.06.001',\n",
       " '10.25100/cdea.v32i56.4280',\n",
       " '10.25100/cdea.v32i56.4281',\n",
       " '10.25100/cdea.v32i55.4256',\n",
       " '10.25100/cdea.v32i55.4257',\n",
       " '10.25100/cdea.v32i55.4253',\n",
       " '10.25100/cdea.v32i55',\n",
       " '10.25100/cdea.v32i56.4284',\n",
       " '10.25100/cdea.v32i55.4258',\n",
       " '10.25100/cdea.v32i55.4254',\n",
       " '10.1016/j.estger.2016.06.002',\n",
       " '10.25100/cdea.v32i56.4276',\n",
       " '10.25100/cdea.v32i55.4255',\n",
       " '10.25100/cdea.v32i56.4279',\n",
       " '10.25100/cdea.v32i56.4282',\n",
       " '10.25100/cdea.v32i55.4259',\n",
       " '10.25100/cdea.v15i23.183',\n",
       " '10.25100/cdea.v15i23.182',\n",
       " '10.25100/cdea.v15i23.184',\n",
       " '10.25100/cdea.v16i24.166',\n",
       " '10.25100/cdea.v15i23.185',\n",
       " '10.25100/cdea.v16i24.171',\n",
       " '10.25100/cdea.v15i23.186',\n",
       " '10.25100/cdea.v16i24',\n",
       " '10.25100/cdea.v16i24.168',\n",
       " '10.25100/cdea.v16i24.169',\n",
       " '10.25100/cdea.v16i24.177',\n",
       " '10.25100/cdea.v16i24.170',\n",
       " '10.25100/cdea.v16i24.167',\n",
       " '10.25100/cdea.v15i23',\n",
       " '10.25100/cdea.v15i23.187',\n",
       " '10.1016/j.estger.2017.07.001',\n",
       " '10.25100/cdea.v16i24.175',\n",
       " '10.25100/cdea.v16i24.172',\n",
       " '10.25100/cdea.v16i24.174',\n",
       " '10.25100/cdea.v16i24.173',\n",
       " '10.25100/cdea.v15i23.178',\n",
       " '10.25100/cdea.v16i24.176',\n",
       " '10.25100/cdea.v15i23.179',\n",
       " '10.25100/cdea.v15i23.181',\n",
       " '10.25100/cdea.v15i23.180',\n",
       " '10.25100/cdea.v15i23.188',\n",
       " '10.25100/cdea.v15i23.189',\n",
       " '10.25100/cdea.v15i23.191',\n",
       " '10.25100/cdea.v15i23.190',\n",
       " '10.25100/cdea.v17i26',\n",
       " '10.25100/cdea.v17i26.149',\n",
       " '10.25100/cdea.v17i26.150',\n",
       " '10.25100/cdea.v17i26.153',\n",
       " '10.25100/cdea.v17i26.154',\n",
       " '10.25100/cdea.v17i26.151',\n",
       " '10.1016/j.estger.2017.06.004',\n",
       " '10.25100/cdea.v17i26.155',\n",
       " '10.25100/cdea.v17i26.156',\n",
       " '10.25100/cdea.v17i26.157',\n",
       " '10.25100/cdea.v17i25',\n",
       " '10.25100/cdea.v17i25.158',\n",
       " '10.25100/cdea.v17i25.160',\n",
       " '10.25100/cdea.v17i25.159',\n",
       " '10.25100/cdea.v17i25.161',\n",
       " '10.25100/cdea.v17i25.162',\n",
       " '10.25100/cdea.v17i25.163',\n",
       " '10.1016/j.estger.2017.06.006',\n",
       " '10.25100/cdea.v17i25.164',\n",
       " '10.25100/cdea.v17i25.165',\n",
       " '10.25100/cdea.v13i19',\n",
       " '10.25100/cdea.v13i19.258',\n",
       " '10.25100/cdea.v13i19.260',\n",
       " '10.25100/cdea.v13i19.259',\n",
       " '10.25100/cdea.v13i19.261',\n",
       " '10.25100/cdea.v13i19.262',\n",
       " '10.25100/cdea.v13i19.263',\n",
       " '10.25100/cdea.v13i18',\n",
       " '10.25100/cdea.v13i19.264',\n",
       " '10.25100/cdea.v13i18.265',\n",
       " '10.25100/cdea.v13i18.266',\n",
       " '10.25100/cdea.v13i18.267',\n",
       " '10.25100/cdea.v12i17',\n",
       " '10.25100/cdea.v13i18.269',\n",
       " '10.25100/cdea.v12i17.272',\n",
       " '10.25100/cdea.v22i35.225',\n",
       " '10.25100/cdea.v22i35',\n",
       " '10.25100/cdea.v12i17.271',\n",
       " '10.1016/j.estger.2017.07.002',\n",
       " '10.25100/cdea.v13i18.270',\n",
       " '10.25100/cdea.v12i17.274',\n",
       " '10.25100/cdea.v22i35.226',\n",
       " '10.25100/cdea.v22i35.227',\n",
       " '10.25100/cdea.v22i35.228',\n",
       " '10.25100/cdea.v22i35.229',\n",
       " '10.25100/cdea.v22i35.230',\n",
       " '10.25100/cdea.v12i17.273',\n",
       " '10.25100/cdea.v22i35.231',\n",
       " '10.25100/cdea.v12i17.276',\n",
       " '10.1016/j.estger.2017.07.003',\n",
       " '10.25100/cdea.v22i35.232',\n",
       " '10.25100/cdea.v12i17.275',\n",
       " '10.25100/cdea.v22i35.233',\n",
       " '10.25100/cdea.v22i35.234',\n",
       " '10.25100/cdea.v22i36-37.236',\n",
       " '10.25100/cdea.v12i16',\n",
       " '10.25100/cdea.v12i16.278',\n",
       " '10.25100/cdea.v12i16.279',\n",
       " '10.25100/cdea.v12i17.277',\n",
       " '10.25100/cdea.v22i36-37',\n",
       " '10.1016/j.estger.2017.06.005',\n",
       " '10.25100/cdea.v12i16.282',\n",
       " '10.25100/cdea.v12i16.280',\n",
       " '10.25100/cdea.v12i16.281',\n",
       " '10.25100/cdea.v12i16.283',\n",
       " '10.25100/cdea.v22i36-37.237',\n",
       " '10.25100/cdea.v22i36-37.235',\n",
       " '10.25100/cdea.v22i36-37.238',\n",
       " '10.25100/cdea.v22i36-37.239',\n",
       " '10.25100/cdea.v22i36-37.240',\n",
       " '10.25100/cdea.v6i7.329',\n",
       " '10.25100/cdea.v22i36-37.241',\n",
       " '10.25100/cdea.v22i36-37.244',\n",
       " '10.25100/cdea.v22i36-37.242',\n",
       " '10.25100/cdea.v22i36-37.243',\n",
       " '10.25100/cdea.v22i36-37.248',\n",
       " '10.25100/cdea.v22i36-37.249',\n",
       " '10.25100/cdea.v22i36-37.245',\n",
       " '10.25100/cdea.v22i36-37.246',\n",
       " '10.25100/cdea.v22i36-37.247',\n",
       " '10.25100/cdea.v22i36-37.250',\n",
       " '10.1016/j.estger.2017.08.001',\n",
       " '10.25100/cdea.v14i20.253',\n",
       " '10.25100/cdea.v14i20.251',\n",
       " '10.25100/cdea.v14i20',\n",
       " '10.25100/cdea.v14i20.252',\n",
       " '10.25100/cdea.v14i20.252',\n",
       " '10.25100/cdea.v14i20.254',\n",
       " '10.25100/cdea.v14i20.255',\n",
       " '10.25100/cdea.v14i20.256',\n",
       " '10.25100/cdea.v14i20.257',\n",
       " '10.25100/cdea.v13i18.268',\n",
       " '10.25100/cdea.v31i54.11',\n",
       " '10.1016/j.estger.2017.09.002',\n",
       " '10.25100/cdea.v31i54',\n",
       " '10.25100/cdea.v31i54.2',\n",
       " '10.25100/cdea.v31i54.4',\n",
       " '10.25100/cdea.v31i54.5',\n",
       " '10.25100/cdea.v31i54.7',\n",
       " '10.25100/cdea.v31i54.8',\n",
       " '10.25100/cdea.v31i54.9',\n",
       " '10.25100/cdea.v31i54.10',\n",
       " '10.25100/cdea.v31i54.6',\n",
       " '10.1016/j.estger.2017.09.001',\n",
       " '10.25100/cdea.v0i0.36',\n",
       " '10.25100/cdea.v0i0',\n",
       " '10.25100/cdea.v21i33',\n",
       " '10.25100/cdea.v21i33.207',\n",
       " '10.25100/cdea.v21i33.208',\n",
       " '10.25100/cdea.v21i33.209',\n",
       " '10.25100/cdea.v21i33.211',\n",
       " '10.25100/cdea.v21i33.210',\n",
       " '10.25100/cdea.v21i34',\n",
       " '10.25100/cdea.v21i33.212',\n",
       " '10.18046/j.estger.2018.147.2606',\n",
       " '10.25100/cdea.v21i34.213',\n",
       " '10.25100/cdea.v21i34.215',\n",
       " '10.25100/cdea.v21i34.214',\n",
       " '10.25100/cdea.v21i34.217',\n",
       " '10.25100/cdea.v21i34.221',\n",
       " '10.25100/cdea.v21i34.218',\n",
       " '10.25100/cdea.v21i34.222',\n",
       " '10.25100/cdea.v21i34.223',\n",
       " '10.25100/cdea.v21i34.219',\n",
       " '10.25100/cdea.v20i31',\n",
       " '10.25100/cdea.v21i34.224',\n",
       " '10.25100/cdea.v20i31.193',\n",
       " '10.25100/cdea.v20i31.192',\n",
       " '10.25100/cdea.v20i31.196',\n",
       " '10.25100/cdea.v20i31.195',\n",
       " '10.25100/cdea.v20i31.197',\n",
       " '10.25100/cdea.v20i31.198',\n",
       " '10.25100/cdea.v20i31.199',\n",
       " '10.18046/j.estger.2012.1487',\n",
       " '10.25100/cdea.v20i31.194',\n",
       " '10.25100/cdea.v20i32.200',\n",
       " '10.25100/cdea.v20i32',\n",
       " '10.25100/cdea.v20i32.201',\n",
       " '10.25100/cdea.v20i32.204',\n",
       " '10.25100/cdea.v20i32.202',\n",
       " '10.25100/cdea.v20i32.206',\n",
       " '10.25100/cdea.v20i32.205',\n",
       " '10.25100/cdea.v20i32.203',\n",
       " '10.25100/cdea.v30i52.33',\n",
       " '10.25100/cdea.v30i52.34',\n",
       " '10.25100/cdea.v30i52.35',\n",
       " '10.25100/cdea.v30i51',\n",
       " '10.25100/cdea.v30i51.37',\n",
       " '10.25100/cdea.v30i51.39',\n",
       " '10.25100/cdea.v30i51.40',\n",
       " '10.25100/cdea.v30i51.42',\n",
       " '10.25100/cdea.v30i51.43',\n",
       " '10.1016/j.estger.2014.09.002',\n",
       " '10.18046/j.estger.2012.1484',\n",
       " '10.25100/cdea.v30i51.41',\n",
       " '10.25100/cdea.v30i51.45',\n",
       " '10.25100/cdea.v29i50.47',\n",
       " '10.25100/cdea.v31i53.12',\n",
       " '10.25100/cdea.v31i53.13',\n",
       " '10.25100/cdea.v31i53.14',\n",
       " '10.25100/cdea.v31i53',\n",
       " '10.25100/cdea.v31i53.15',\n",
       " '10.18046/j.estger.2012.1483',\n",
       " '10.25100/cdea.v31i53.17',\n",
       " '10.25100/cdea.v31i53.18',\n",
       " '10.25100/cdea.v31i53.21',\n",
       " '10.25100/cdea.v31i53.20',\n",
       " '10.25100/cdea.v31i53.22',\n",
       " '10.25100/cdea.v31i53.22',\n",
       " '10.25100/cdea.v30i52.25',\n",
       " '10.25100/cdea.v30i52.26',\n",
       " '10.18046/j.estger.2012.1482',\n",
       " '10.25100/cdea.v30i52.27',\n",
       " '10.25100/cdea.v30i52.29',\n",
       " '10.25100/cdea.v30i52.31',\n",
       " '10.25100/cdea.v30i52.30',\n",
       " '10.25100/cdea.v33i57',\n",
       " '10.25100/cdea.v33i57.5844',\n",
       " '10.25100/cdea.v33i57.4464',\n",
       " '10.25100/cdea.v33i57.4536',\n",
       " '10.25100/cdea.v33i57.4535',\n",
       " '10.18046/j.estger.2012.1481',\n",
       " '10.25100/cdea.v33i57.4538',\n",
       " '10.25100/cdea.v33i57.4510',\n",
       " '10.25100/cdea.v33i57.4467',\n",
       " '10.25100/cdea.v33i57.4512',\n",
       " '10.25100/cdea.v1i1-1',\n",
       " '10.25100/cdea.v1i1-1.24',\n",
       " '10.25100/cdea.v35i64.7611',\n",
       " '10.25100/cdea.v29i50.49',\n",
       " '10.25100/cdea.v15i22.100',\n",
       " '10.25100/cdea.v14i21',\n",
       " '10.25100/cdea.v14i21.103',\n",
       " '10.25100/cdea.v14i21.105',\n",
       " '10.25100/cdea.v14i21.105',\n",
       " '10.25100/cdea.v14i21.106',\n",
       " '10.25100/cdea.v19i29.121',\n",
       " '10.25100/cdea.v19i29.121',\n",
       " '10.25100/cdea.v19i29.123',\n",
       " '10.25100/cdea.v19i29.126',\n",
       " '10.25100/cdea.v19i29.127',\n",
       " '10.25100/cdea.v18i28',\n",
       " '10.25100/cdea.v18i28.130',\n",
       " '10.25100/cdea.v18i28.134',\n",
       " '10.25100/cdea.v18i28.131',\n",
       " '10.25100/cdea.v18i28.137',\n",
       " '10.25100/cdea.v18i27.147',\n",
       " '10.25100/cdea.v31i53.23',\n",
       " '10.25100/cdea.v33i58',\n",
       " '10.25100/cdea.v33i58.6043',\n",
       " '10.25100/cdea.v33i58.4704',\n",
       " '10.25100/cdea.v33i58.4527',\n",
       " '10.25100/cdea.v33i58.4517',\n",
       " '10.25100/cdea.v33i58.4508',\n",
       " '10.18046/j.estger.2012.1478',\n",
       " '10.25100/cdea.v33i58.4502',\n",
       " '10.25100/cdea.v33i58.4487',\n",
       " '10.25100/cdea.v33i58.4471',\n",
       " '10.25100/cdea.v35i63.6139',\n",
       " '10.25100/cdea.v35i63.6938',\n",
       " '10.25100/cdea.v35i63.7703',\n",
       " '10.25100/cdea.v35i63.6893',\n",
       " '10.25100/cdea.v35i63.6937',\n",
       " '10.25100/cdea.v35i63.6916',\n",
       " '10.25100/cdea.v35i63.6939',\n",
       " '10.18046/j.estger.2012.1477']"
      ]
     },
     "execution_count": 100,
     "metadata": {},
     "output_type": "execute_result"
    }
   ],
   "source": [
    "failed_dois"
   ]
  },
  {
   "cell_type": "code",
   "execution_count": null,
   "metadata": {},
   "outputs": [],
   "source": [
    "%%bash\n",
    "#git add Revistas.ipynb revistas_crossref.json\n",
    "#git commit -am 'cross ref info'\n",
    "#git push origin master"
   ]
  },
  {
   "cell_type": "code",
   "execution_count": null,
   "metadata": {},
   "outputs": [],
   "source": []
  }
 ],
 "metadata": {
  "colab": {
   "include_colab_link": true,
   "name": "crossref.ipynb",
   "provenance": []
  },
  "kernelspec": {
   "display_name": "Python 3",
   "language": "python",
   "name": "python3"
  },
  "language_info": {
   "codemirror_mode": {
    "name": "ipython",
    "version": 3
   },
   "file_extension": ".py",
   "mimetype": "text/x-python",
   "name": "python",
   "nbconvert_exporter": "python",
   "pygments_lexer": "ipython3",
   "version": "3.5.3"
  },
  "latex_envs": {
   "LaTeX_envs_menu_present": true,
   "autoclose": false,
   "autocomplete": true,
   "bibliofile": "biblio.bib",
   "cite_by": "apalike",
   "current_citInitial": 1,
   "eqLabelWithNumbers": true,
   "eqNumInitial": 1,
   "hotkeys": {
    "equation": "Ctrl-E",
    "itemize": "Ctrl-I"
   },
   "labels_anchors": false,
   "latex_user_defs": false,
   "report_style_numbering": false,
   "user_envs_cfg": false
  }
 },
 "nbformat": 4,
 "nbformat_minor": 1
}
