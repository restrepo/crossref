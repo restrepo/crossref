{
 "cells": [
  {
   "cell_type": "markdown",
   "metadata": {
    "colab_type": "text",
    "id": "view-in-github"
   },
   "source": [
    "<a href=\"https://colab.research.google.com/github/restrepo/crossref/blob/master/Revistas.ipynb\" target=\"_parent\"><img src=\"https://colab.research.google.com/assets/colab-badge.svg\" alt=\"Open In Colab\"/></a>"
   ]
  },
  {
   "cell_type": "markdown",
   "metadata": {
    "colab_type": "text",
    "id": "-Lp8A1wRLbMH"
   },
   "source": [
    "# Crossref API"
   ]
  },
  {
   "cell_type": "code",
   "execution_count": 1,
   "metadata": {
    "colab": {},
    "colab_type": "code",
    "id": "kdP3nR3LLbMK"
   },
   "outputs": [],
   "source": [
    "import pandas as pd\n",
    "import getpass\n",
    "import time"
   ]
  },
  {
   "cell_type": "markdown",
   "metadata": {
    "colab_type": "text",
    "id": "9HCwTxD8LbMP"
   },
   "source": [
    "Resources\n",
    "* API TUTORIAL: https://github.com/CrossRef/rest-api-doc\n",
    "* JSON Format: https://github.com/Crossref/rest-api-doc/blob/master/api_format.md"
   ]
  },
  {
   "cell_type": "markdown",
   "metadata": {
    "colab_type": "text",
    "id": "MH7x42nRLbMQ"
   },
   "source": [
    "## Search by ISSN"
   ]
  },
  {
   "cell_type": "code",
   "execution_count": 2,
   "metadata": {
    "colab": {
     "base_uri": "https://localhost:8080/",
     "height": 34
    },
    "colab_type": "code",
    "id": "_xwEhKBbLpSN",
    "outputId": "2f53bb3a-0b4f-4d04-eed9-97d8bd74cee2"
   },
   "outputs": [
    {
     "name": "stdout",
     "output_type": "stream",
     "text": [
      "Email:········\n"
     ]
    }
   ],
   "source": [
    "email=getpass.getpass('Email:')"
   ]
  },
  {
   "cell_type": "code",
   "execution_count": 4,
   "metadata": {},
   "outputs": [],
   "source": [
    "dfj=pd.read_csv('https://docs.google.com/spreadsheets/d/e/2PACX-1vQ2-K4JSl93PMkHaN5MZjlXy5beaZVy3jlOg7YD6tbrFq0pItttWKfKSiAQy7tcRw/pub?gid=508185721&single=true&output=csv')"
   ]
  },
  {
   "cell_type": "code",
   "execution_count": 5,
   "metadata": {},
   "outputs": [],
   "source": [
    "dfj=dfj.dropna(subset=['Título de la revista']).reset_index(drop=True)"
   ]
  },
  {
   "cell_type": "code",
   "execution_count": 6,
   "metadata": {},
   "outputs": [],
   "source": [
    "dfj=dfj.fillna('')"
   ]
  },
  {
   "cell_type": "code",
   "execution_count": 7,
   "metadata": {},
   "outputs": [],
   "source": [
    "djournals=list(\n",
    "   dfj.apply(lambda row:{'journal':row['Título de la revista']\n",
    "                      ,'ISSN':{ 'print'     :row['ISSN Impreso']\n",
    "                               ,'electronic':row['ISSN']\n",
    "                              }\n",
    "                     },axis=1).values\n",
    ")"
   ]
  },
  {
   "cell_type": "markdown",
   "metadata": {},
   "source": [
    "Get list of Journals ans ISSNs"
   ]
  },
  {
   "cell_type": "code",
   "execution_count": 8,
   "metadata": {},
   "outputs": [],
   "source": [
    "journals=[ d.get('journal') for d in djournals if d.get('journal')]\n",
    "\n",
    "issns=[\n",
    "        d.get('ISSN').get('print') for d in djournals if d.get('ISSN').get('print')\n",
    "    ]\n",
    "issns_e=[\n",
    "        d.get('ISSN').get('electronic') for d in djournals if d.get('ISSN').get('print')\n",
    "    ]"
   ]
  },
  {
   "cell_type": "markdown",
   "metadata": {},
   "source": [
    "Loop in ISSNs: both print and electronic"
   ]
  },
  {
   "cell_type": "code",
   "execution_count": 12,
   "metadata": {
    "colab": {},
    "colab_type": "code",
    "id": "gqF_GkWGLbMR"
   },
   "outputs": [
    {
     "name": "stdout",
     "output_type": "stream",
     "text": [
      "Enough rows: all the 560 items have been downloaded\n",
      "Enough rows: all the 149 items have been downloaded\n",
      "Enough rows: all the 191 items have been downloaded\n",
      "Enough rows: all the 133 items have been downloaded\n",
      "Enough rows: all the 451 items have been downloaded\n",
      "Enough rows: all the 134 items have been downloaded\n",
      "Enough rows: all the 327 items have been downloaded\n",
      "Enough rows: all the 164 items have been downloaded\n",
      "Enough rows: all the 145 items have been downloaded\n",
      "Enough rows: all the 145 items have been downloaded\n",
      "Enough rows: all the 307 items have been downloaded\n",
      "Enough rows: all the 140 items have been downloaded\n",
      "Enough rows: all the 94 items have been downloaded\n",
      "Enough rows: all the 80 items have been downloaded\n",
      "Enough rows: all the 104 items have been downloaded\n",
      "Enough rows: all the 135 items have been downloaded\n",
      "Enough rows: all the 176 items have been downloaded\n",
      "Enough rows: all the 732 items have been downloaded\n",
      "Enough rows: all the 22 items have been downloaded\n",
      "Enough rows: all the 92 items have been downloaded\n"
     ]
    }
   ],
   "source": [
    "dft=pd.DataFrame()\n",
    "ISSN=True\n",
    "sleep=5\n",
    "for i in range(len(issns)):\n",
    "#if True:\n",
    "    url_e=''\n",
    "    journal=journals[i]\n",
    "    issn=issns[i]\n",
    "    issn_e=issns_e[i]\n",
    "    items=1000\n",
    "    crf='https://api.crossref.org'\n",
    "    if ISSN:\n",
    "        url='{}/journals/{}/works?rows={}&mailto={}'.format(\n",
    "              crf,issn,items,email)\n",
    "        if issn_e:\n",
    "            url_e='{}/journals/{}/works?rows={}&mailto={}'.format(\n",
    "                 crf,issn_e,items,email)\n",
    "    else:\n",
    "        url='{}/works?query.container-title={}&rows={}&mailto={}'.format(\n",
    "          crf,journal,items,email)\n",
    "    try:\n",
    "        df=pd.read_json(url)\n",
    "    except:\n",
    "        df=pd.DataFrame()\n",
    "\n",
    "    df_e=pd.DataFrame()\n",
    "    if url_e:\n",
    "        time.sleep(sleep)\n",
    "        try:\n",
    "            df_e=pd.read_json(url)\n",
    "        except:\n",
    "            pass\n",
    "        \n",
    "    if not df.empty:\n",
    "        dfi=pd.DataFrame( df.loc['items']['message'] )\n",
    "        dft=(dft.append(dfi,sort=False)).reset_index(drop=True)\n",
    "        total_results=df.loc['total-results']['message']\n",
    "        if items>total_results:\n",
    "            print('Enough rows: all the {} items have been downloaded'.format(total_results))\n",
    "        else:\n",
    "            print('Missing items for issn: {}. Increase `rows` value'.format(issn))\n",
    "            \n",
    "    if not df_e.empty:\n",
    "        dfi_e=pd.DataFrame( df.loc['items']['message'] )\n",
    "        #Check if there are new items:\n",
    "        dfi_e=dfi_e[dfi_e['ISSN'].apply(lambda l: \n",
    "                     issn not in l if isinstance(l,list) else False)\n",
    "                   ].reset_index(drop=True)\n",
    "        if not dfi_e.empty:\n",
    "            dft=(dft.append(dfi_e,sort=False)).reset_index(drop=True)\n",
    "            total_results=df_e.loc['total-results']['message']\n",
    "            if items>total_results:\n",
    "                print('New items in electronic ISSN:')\n",
    "                print('Enough rows: all the {} items have been downloaded'.format(total_results))\n",
    "            else:\n",
    "                print('Missing items for issn: {}. Increase `rows` value'.format(issn_e))\n",
    "    time.sleep(sleep)"
   ]
  },
  {
   "cell_type": "code",
   "execution_count": 13,
   "metadata": {},
   "outputs": [
    {
     "data": {
      "text/plain": [
       "(4281, 43)"
      ]
     },
     "execution_count": 13,
     "metadata": {},
     "output_type": "execute_result"
    }
   ],
   "source": [
    "dft.shape"
   ]
  },
  {
   "cell_type": "code",
   "execution_count": 15,
   "metadata": {},
   "outputs": [],
   "source": [
    "dft.to_json('revistas_crossref.json')"
   ]
  },
  {
   "cell_type": "code",
   "execution_count": 17,
   "metadata": {},
   "outputs": [],
   "source": [
    "dfcr=pd.read_json('revistas_crossref.json')"
   ]
  },
  {
   "cell_type": "code",
   "execution_count": 18,
   "metadata": {},
   "outputs": [
    {
     "data": {
      "text/plain": [
       "(4281, 43)"
      ]
     },
     "execution_count": 18,
     "metadata": {},
     "output_type": "execute_result"
    }
   ],
   "source": [
    "dfcr.shape"
   ]
  },
  {
   "cell_type": "code",
   "execution_count": 22,
   "metadata": {
    "colab": {},
    "colab_type": "code",
    "id": "8eAuTdQhTM16"
   },
   "outputs": [
    {
     "data": {
      "text/plain": [
       "(599, 43)"
      ]
     },
     "execution_count": 22,
     "metadata": {},
     "output_type": "execute_result"
    }
   ],
   "source": [
    "dfcr[dfcr.author.astype(str).str.lower().str.contains('orcid')].shape"
   ]
  },
  {
   "cell_type": "code",
   "execution_count": 28,
   "metadata": {},
   "outputs": [
    {
     "data": {
      "text/plain": [
       "Index(['DOI', 'ISSN', 'URL', 'abstract', 'alternative-id', 'assertion',\n",
       "       'author', 'container-title', 'content-domain', 'created', 'deposited',\n",
       "       'editor', 'funder', 'indexed', 'is-referenced-by-count', 'issn-type',\n",
       "       'issue', 'issued', 'journal-issue', 'language', 'license', 'link',\n",
       "       'member', 'original-title', 'page', 'prefix', 'published-online',\n",
       "       'published-print', 'publisher', 'reference', 'reference-count',\n",
       "       'references-count', 'relation', 'score', 'short-container-title',\n",
       "       'short-title', 'source', 'subject', 'subtitle', 'title', 'type',\n",
       "       'update-policy', 'volume'],\n",
       "      dtype='object')"
      ]
     },
     "execution_count": 28,
     "metadata": {},
     "output_type": "execute_result"
    }
   ],
   "source": [
    "dfcr.keys()"
   ]
  },
  {
   "cell_type": "markdown",
   "metadata": {},
   "source": [
    "## Searching citations for the DOIS\n",
    "See: \n",
    "* http://opencitations.net/index/coci/api/v1\n",
    "* https://opencitations.wordpress.com/2020/01/21/coci-jan-2020-release/  \n",
    "\n",
    "### Operations\n",
    "The operations that this API implements are:\n",
    "\n",
    "* `/references/{doi}`: This operation retrieves the citation data for all the references to other works appearing in the bibliographic entity identified by the input DOI.\n",
    "* `/citations/{doi}`: Search DOIs citing input (cited) DOI: This operation retrieves the citation data for all the references appearing in other works to the bibliographic entity identified by the input DOI.\n",
    "* `/citation/{oci}`: This operation retrieves the citation data for the citation identified by the input Open Citation Identifier (OCI).\n",
    "* `/metadata/{dois}`: This operation retrieves the metadata for all the articles identified by the input DOIs."
   ]
  },
  {
   "cell_type": "code",
   "execution_count": 30,
   "metadata": {},
   "outputs": [],
   "source": [
    "import requests"
   ]
  },
  {
   "cell_type": "markdown",
   "metadata": {},
   "source": [
    "### Example:"
   ]
  },
  {
   "cell_type": "code",
   "execution_count": 97,
   "metadata": {},
   "outputs": [
    {
     "data": {
      "text/plain": [
       "[{'author_sc': 'no',\n",
       "  'cited': '10.25100/cdea.v26i43.425',\n",
       "  'citing': '10.22490/25392786.3177',\n",
       "  'creation': '2019-05-21',\n",
       "  'journal_sc': 'no',\n",
       "  'oci': '02002020409003602050309020708063703010707-020020501000036121314103731020618040337040205',\n",
       "  'timespan': 'P7Y6M19D'}]"
      ]
     },
     "execution_count": 97,
     "metadata": {},
     "output_type": "execute_result"
    }
   ],
   "source": [
    "operations=['citations']#['metadata']\n",
    "for doi in ['10.25100/cdea.v26i43.425']:#['10.1103/PhysRevD.99.075008']:\n",
    "    for operation in operations:\n",
    "        url='https://opencitations.net/index/coci/api/v1/{}/{}'.format(\n",
    "           operation,doi)\n",
    "        r=requests.get(url)\n",
    "#print last result\n",
    "r.json()"
   ]
  },
  {
   "cell_type": "markdown",
   "metadata": {},
   "source": [
    "### Implementation for current DOIs"
   ]
  },
  {
   "cell_type": "code",
   "execution_count": 134,
   "metadata": {},
   "outputs": [],
   "source": [
    "df_meta=pd.read_json('metadata.json')"
   ]
  },
  {
   "cell_type": "code",
   "execution_count": 135,
   "metadata": {},
   "outputs": [
    {
     "data": {
      "text/plain": [
       "(4266, 13)"
      ]
     },
     "execution_count": 135,
     "metadata": {},
     "output_type": "execute_result"
    }
   ],
   "source": [
    "df_meta.shape"
   ]
  },
  {
   "cell_type": "code",
   "execution_count": 127,
   "metadata": {},
   "outputs": [],
   "source": [
    "total_failed_dois=[]\n",
    "for doi in dfcr.DOI:\n",
    "    if doi not in df_meta.doi.values:\n",
    "        total_failed_dois.append(doi)"
   ]
  },
  {
   "cell_type": "code",
   "execution_count": 131,
   "metadata": {},
   "outputs": [
    {
     "data": {
      "text/plain": [
       "15"
      ]
     },
     "execution_count": 131,
     "metadata": {},
     "output_type": "execute_result"
    }
   ],
   "source": [
    "dfcr.DOI.shape[0]-df_meta.doi.shape[0]"
   ]
  },
  {
   "cell_type": "code",
   "execution_count": 130,
   "metadata": {},
   "outputs": [
    {
     "data": {
      "text/plain": [
       "(4266,)"
      ]
     },
     "execution_count": 130,
     "metadata": {},
     "output_type": "execute_result"
    }
   ],
   "source": [
    "df_meta.doi.shape[0]"
   ]
  },
  {
   "cell_type": "code",
   "execution_count": 128,
   "metadata": {},
   "outputs": [
    {
     "data": {
      "text/plain": [
       "['10.25100/cdea.v23i38.371',\n",
       " '10.25100/cdea.v23i38.372',\n",
       " '10.25100/cdea.v24i39.378',\n",
       " '10.25100/cdea.v24i39.377',\n",
       " '10.25100/cdea.v24i39.386',\n",
       " '10.25100/cdea.v1i1.341',\n",
       " '10.25100/cdea.v1i1.344',\n",
       " '10.25100/cdea.v1i1.345',\n",
       " '10.1016/j.estger.2016.04.002',\n",
       " '10.25100/cdea.v1i2.346',\n",
       " '10.25100/cdea.v2i3',\n",
       " '10.25100/cdea.v1i2.348',\n",
       " '10.14718/revarq.2019.21.2.1906',\n",
       " '10.22490/24629448.995',\n",
       " '10.17081/dege.6.2.473']"
      ]
     },
     "execution_count": 128,
     "metadata": {},
     "output_type": "execute_result"
    }
   ],
   "source": [
    "total_failed_dois"
   ]
  },
  {
   "cell_type": "code",
   "execution_count": 123,
   "metadata": {},
   "outputs": [
    {
     "data": {
      "text/plain": [
       "'10.17081/eduhum.21.36.3149'"
      ]
     },
     "execution_count": 123,
     "metadata": {},
     "output_type": "execute_result"
    }
   ],
   "source": [
    "doi"
   ]
  },
  {
   "cell_type": "code",
   "execution_count": 126,
   "metadata": {},
   "outputs": [
    {
     "data": {
      "text/plain": [
       "True"
      ]
     },
     "execution_count": 126,
     "metadata": {},
     "output_type": "execute_result"
    }
   ],
   "source": [
    "doi in df_meta.doi.values"
   ]
  },
  {
   "cell_type": "code",
   "execution_count": 125,
   "metadata": {},
   "outputs": [
    {
     "data": {
      "text/plain": [
       "True"
      ]
     },
     "execution_count": 125,
     "metadata": {},
     "output_type": "execute_result"
    }
   ],
   "source": [
    "doi in dfcr.DOI.values"
   ]
  },
  {
   "cell_type": "code",
   "execution_count": 118,
   "metadata": {},
   "outputs": [
    {
     "data": {
      "text/plain": [
       "4281"
      ]
     },
     "execution_count": 118,
     "metadata": {},
     "output_type": "execute_result"
    }
   ],
   "source": [
    "len(total_failed_dois)"
   ]
  },
  {
   "cell_type": "code",
   "execution_count": 132,
   "metadata": {},
   "outputs": [],
   "source": [
    "citdf=pd.DataFrame()\n",
    "metdf=pd.DataFrame()\n",
    "failed_dois=[]\n",
    "operations=['metadata']#['citations','metadata']\n",
    "for doi in total_failed_doisfailed_dois:#dfcr.DOI:\n",
    "    for operation in operations:\n",
    "        try:\n",
    "            r=requests.get('https://opencitations.net/index/coci/api/v1/{}/{}'.format(\n",
    "                   operation,doi))\n",
    "        except:\n",
    "            r=None\n",
    "        time.sleep(3)\n",
    "        \n",
    "        if getattr(r, \"status_code\", None)==200 and r.json():\n",
    "            if operation=='citations':\n",
    "                print('citations found for doi: {}'.format(doi))\n",
    "                try:\n",
    "                    citdf=citdf.append(pd.DataFrame(r.json()),sort=False).reset_index(drop=True)\n",
    "                    citdf.to_json('tmp1.json')\n",
    "                except:\n",
    "                    pass\n",
    "            elif operation=='metadata':\n",
    "                try:\n",
    "                    metdf=metdf.append(pd.DataFrame(r.json()),sort=False).reset_index(drop=True)\n",
    "                    metdf.to_json('tmp2.json')\n",
    "                except:\n",
    "                    pass\n",
    "        else:\n",
    "            print('wrong status code, waiting...')\n",
    "            failed_dois.append(doi)\n",
    "            time.sleep(3)"
   ]
  },
  {
   "cell_type": "code",
   "execution_count": 145,
   "metadata": {},
   "outputs": [],
   "source": [
    "df_meta=(df_meta.append(mm,sort=True)).reset_index(drop=True)"
   ]
  },
  {
   "cell_type": "code",
   "execution_count": 146,
   "metadata": {},
   "outputs": [],
   "source": [
    "df_meta.to_json('metadata.json')"
   ]
  },
  {
   "cell_type": "code",
   "execution_count": 149,
   "metadata": {},
   "outputs": [],
   "source": [
    "df_meta.to_excel('metadata.xlsx',index=False)"
   ]
  },
  {
   "cell_type": "code",
   "execution_count": null,
   "metadata": {},
   "outputs": [],
   "source": []
  },
  {
   "cell_type": "code",
   "execution_count": null,
   "metadata": {},
   "outputs": [],
   "source": [
    "%%bash\n",
    "#git add Revistas.ipynb revistas_crossref.json\n",
    "#git commit -am 'cross ref info'\n",
    "#git push origin master"
   ]
  },
  {
   "cell_type": "code",
   "execution_count": null,
   "metadata": {},
   "outputs": [],
   "source": []
  }
 ],
 "metadata": {
  "colab": {
   "include_colab_link": true,
   "name": "crossref.ipynb",
   "provenance": []
  },
  "kernelspec": {
   "display_name": "Python 3",
   "language": "python",
   "name": "python3"
  },
  "language_info": {
   "codemirror_mode": {
    "name": "ipython",
    "version": 3
   },
   "file_extension": ".py",
   "mimetype": "text/x-python",
   "name": "python",
   "nbconvert_exporter": "python",
   "pygments_lexer": "ipython3",
   "version": "3.5.3"
  },
  "latex_envs": {
   "LaTeX_envs_menu_present": true,
   "autoclose": false,
   "autocomplete": true,
   "bibliofile": "biblio.bib",
   "cite_by": "apalike",
   "current_citInitial": 1,
   "eqLabelWithNumbers": true,
   "eqNumInitial": 1,
   "hotkeys": {
    "equation": "Ctrl-E",
    "itemize": "Ctrl-I"
   },
   "labels_anchors": false,
   "latex_user_defs": false,
   "report_style_numbering": false,
   "user_envs_cfg": false
  }
 },
 "nbformat": 4,
 "nbformat_minor": 1
}
